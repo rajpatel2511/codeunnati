{
 "cells": [
  {
   "cell_type": "markdown",
   "id": "4abe00ac",
   "metadata": {},
   "source": [
    "# NmyPy"
   ]
  },
  {
   "cell_type": "code",
   "execution_count": 1,
   "id": "1c9e38d1",
   "metadata": {},
   "outputs": [
    {
     "name": "stdout",
     "output_type": "stream",
     "text": [
      "Requirement already satisfied: numpy in c:\\users\\raj\\anaconda3\\lib\\site-packages (1.21.5)\n",
      "Note: you may need to restart the kernel to use updated packages.\n"
     ]
    }
   ],
   "source": [
    "pip install numpy"
   ]
  },
  {
   "cell_type": "code",
   "execution_count": null,
   "id": "3d2bc357",
   "metadata": {},
   "outputs": [],
   "source": [
    "conda install numpy"
   ]
  },
  {
   "cell_type": "code",
   "execution_count": 1,
   "id": "2b1483c5",
   "metadata": {},
   "outputs": [
    {
     "name": "stdout",
     "output_type": "stream",
     "text": [
      "Package                       Version\n",
      "----------------------------- --------------------\n",
      "aiohttp                       3.8.1\n",
      "aiosignal                     1.2.0\n",
      "alabaster                     0.7.12\n",
      "anaconda-client               1.9.0\n",
      "anaconda-navigator            2.1.4\n",
      "anaconda-project              0.10.2\n",
      "anyio                         3.5.0\n",
      "appdirs                       1.4.4\n",
      "argon2-cffi                   21.3.0\n",
      "argon2-cffi-bindings          21.2.0\n",
      "arrow                         1.2.2\n",
      "astroid                       2.6.6\n",
      "astropy                       5.0.4\n",
      "asttokens                     2.0.5\n",
      "async-timeout                 4.0.1\n",
      "atomicwrites                  1.4.0\n",
      "attrs                         21.4.0\n",
      "Automat                       20.2.0\n",
      "autopep8                      1.6.0\n",
      "Babel                         2.9.1\n",
      "backcall                      0.2.0\n",
      "backports.functools-lru-cache 1.6.4\n",
      "backports.tempfile            1.0\n",
      "backports.weakref             1.0.post1\n",
      "bcrypt                        3.2.0\n",
      "beautifulsoup4                4.11.1\n",
      "binaryornot                   0.4.4\n",
      "bitarray                      2.4.1\n",
      "bkcharts                      0.2\n",
      "black                         19.10b0\n",
      "bleach                        4.1.0\n",
      "bokeh                         2.4.2\n",
      "boto3                         1.21.32\n",
      "botocore                      1.24.32\n",
      "Bottleneck                    1.3.4\n",
      "brotlipy                      0.7.0\n",
      "cachetools                    4.2.2\n",
      "certifi                       2021.10.8\n",
      "cffi                          1.15.0\n",
      "chardet                       4.0.0\n",
      "charset-normalizer            2.0.4\n",
      "click                         8.0.4\n",
      "cloudpickle                   2.0.0\n",
      "clyent                        1.2.2\n",
      "colorama                      0.4.4\n",
      "colorcet                      2.0.6\n",
      "comtypes                      1.1.10\n",
      "conda                         4.12.0\n",
      "conda-build                   3.21.8\n",
      "conda-content-trust           0+unknown\n",
      "conda-pack                    0.6.0\n",
      "conda-package-handling        1.8.1\n",
      "conda-repo-cli                1.0.4\n",
      "conda-token                   0.3.0\n",
      "conda-verify                  3.4.2\n",
      "constantly                    15.1.0\n",
      "cookiecutter                  1.7.3\n",
      "cryptography                  3.4.8\n",
      "cssselect                     1.1.0\n",
      "cycler                        0.11.0\n",
      "Cython                        0.29.28\n",
      "cytoolz                       0.11.0\n",
      "daal4py                       2021.5.0\n",
      "dask                          2022.2.1\n",
      "datashader                    0.13.0\n",
      "datashape                     0.5.4\n",
      "debugpy                       1.5.1\n",
      "decorator                     5.1.1\n",
      "defusedxml                    0.7.1\n",
      "diff-match-patch              20200713\n",
      "distributed                   2022.2.1\n",
      "docutils                      0.17.1\n",
      "entrypoints                   0.4\n",
      "et-xmlfile                    1.1.0\n",
      "executing                     0.8.3\n",
      "fastjsonschema                2.15.1\n",
      "filelock                      3.6.0\n",
      "flake8                        3.9.2\n",
      "Flask                         1.1.2\n",
      "fonttools                     4.25.0\n",
      "frozenlist                    1.2.0\n",
      "fsspec                        2022.2.0\n",
      "future                        0.18.2\n",
      "gensim                        4.1.2\n",
      "glob2                         0.7\n",
      "google-api-core               1.25.1\n",
      "google-auth                   1.33.0\n",
      "google-cloud-core             1.7.1\n",
      "google-cloud-storage          1.31.0\n",
      "google-crc32c                 1.1.2\n",
      "google-resumable-media        1.3.1\n",
      "googleapis-common-protos      1.53.0\n",
      "greenlet                      1.1.1\n",
      "grpcio                        1.42.0\n",
      "h5py                          3.6.0\n",
      "HeapDict                      1.0.1\n",
      "holoviews                     1.14.8\n",
      "hvplot                        0.7.3\n",
      "hyperlink                     21.0.0\n",
      "idna                          3.3\n",
      "imagecodecs                   2021.8.26\n",
      "imageio                       2.9.0\n",
      "imagesize                     1.3.0\n",
      "importlib-metadata            4.11.3\n",
      "incremental                   21.3.0\n",
      "inflection                    0.5.1\n",
      "iniconfig                     1.1.1\n",
      "intake                        0.6.5\n",
      "intervaltree                  3.1.0\n",
      "ipykernel                     6.9.1\n",
      "ipython                       8.2.0\n",
      "ipython-genutils              0.2.0\n",
      "ipywidgets                    7.6.5\n",
      "isort                         5.9.3\n",
      "itemadapter                   0.3.0\n",
      "itemloaders                   1.0.4\n",
      "itsdangerous                  2.0.1\n",
      "jdcal                         1.4.1\n",
      "jedi                          0.18.1\n",
      "Jinja2                        2.11.3\n",
      "jinja2-time                   0.2.0\n",
      "jmespath                      0.10.0\n",
      "joblib                        1.1.0\n",
      "json5                         0.9.6\n",
      "jsonschema                    4.4.0\n",
      "jupyter                       1.0.0\n",
      "jupyter-client                6.1.12\n",
      "jupyter-console               6.4.0\n",
      "jupyter-core                  4.9.2\n",
      "jupyter-server                1.13.5\n",
      "jupyterlab                    3.3.2\n",
      "jupyterlab-pygments           0.1.2\n",
      "jupyterlab-server             2.10.3\n",
      "jupyterlab-widgets            1.0.0\n",
      "keyring                       23.4.0\n",
      "kiwisolver                    1.3.2\n",
      "lazy-object-proxy             1.6.0\n",
      "libarchive-c                  2.9\n",
      "llvmlite                      0.38.0\n",
      "locket                        0.2.1\n",
      "lxml                          4.8.0\n",
      "Markdown                      3.3.4\n",
      "MarkupSafe                    2.0.1\n",
      "matplotlib                    3.5.1\n",
      "matplotlib-inline             0.1.2\n",
      "mccabe                        0.6.1\n",
      "menuinst                      1.4.18\n",
      "mistune                       0.8.4\n",
      "mkl-fft                       1.3.1\n",
      "mkl-random                    1.2.2\n",
      "mkl-service                   2.4.0\n",
      "mock                          4.0.3\n",
      "mpmath                        1.2.1\n",
      "msgpack                       1.0.2\n",
      "multidict                     5.1.0\n",
      "multipledispatch              0.6.0\n",
      "munkres                       1.1.4\n",
      "mypy-extensions               0.4.3\n",
      "navigator-updater             0.2.1\n",
      "nbclassic                     0.3.5\n",
      "nbclient                      0.5.13\n",
      "nbconvert                     6.4.4\n",
      "nbformat                      5.3.0\n",
      "nest-asyncio                  1.5.5\n",
      "networkx                      2.7.1\n",
      "nltk                          3.7\n",
      "nose                          1.3.7\n",
      "notebook                      6.4.8\n",
      "numba                         0.55.1\n",
      "numexpr                       2.8.1\n",
      "numpy                         1.21.5\n",
      "numpydoc                      1.2\n",
      "olefile                       0.46\n",
      "openpyxl                      3.0.9\n",
      "packaging                     21.3\n",
      "pandas                        1.4.2\n",
      "pandocfilters                 1.5.0\n",
      "panel                         0.13.0\n",
      "param                         1.12.0\n",
      "paramiko                      2.8.1\n",
      "parsel                        1.6.0\n",
      "parso                         0.8.3\n",
      "partd                         1.2.0\n",
      "pathspec                      0.7.0\n",
      "patsy                         0.5.2\n",
      "pep8                          1.7.1\n",
      "pexpect                       4.8.0\n",
      "pickleshare                   0.7.5\n",
      "Pillow                        9.0.1\n",
      "pip                           21.2.4\n",
      "pkginfo                       1.8.2\n",
      "plotly                        5.6.0\n",
      "pluggy                        1.0.0\n",
      "poyo                          0.5.0\n",
      "prometheus-client             0.13.1\n",
      "prompt-toolkit                3.0.20\n",
      "Protego                       0.1.16\n",
      "protobuf                      3.19.1\n",
      "psutil                        5.8.0\n",
      "ptyprocess                    0.7.0\n",
      "pure-eval                     0.2.2\n",
      "py                            1.11.0\n",
      "pyasn1                        0.4.8\n",
      "pyasn1-modules                0.2.8\n",
      "pycodestyle                   2.7.0\n",
      "pycosat                       0.6.3\n",
      "pycparser                     2.21\n",
      "pyct                          0.4.6\n",
      "pycurl                        7.44.1\n",
      "PyDispatcher                  2.0.5\n",
      "pydocstyle                    6.1.1\n",
      "pyerfa                        2.0.0\n",
      "pyflakes                      2.3.1\n",
      "Pygments                      2.11.2\n",
      "PyHamcrest                    2.0.2\n",
      "PyJWT                         2.1.0\n",
      "pylint                        2.9.6\n",
      "pyls-spyder                   0.4.0\n",
      "PyNaCl                        1.4.0\n",
      "pyodbc                        4.0.32\n",
      "pyOpenSSL                     21.0.0\n",
      "pyparsing                     3.0.4\n",
      "pyreadline                    2.1\n",
      "pyrsistent                    0.18.0\n",
      "PySocks                       1.7.1\n",
      "pytest                        7.1.1\n",
      "python-dateutil               2.8.2\n",
      "python-lsp-black              1.0.0\n",
      "python-lsp-jsonrpc            1.0.0\n",
      "python-lsp-server             1.2.4\n",
      "python-slugify                5.0.2\n",
      "python-snappy                 0.6.0\n",
      "pytz                          2021.3\n",
      "pyviz-comms                   2.0.2\n",
      "PyWavelets                    1.3.0\n",
      "pywin32                       302\n",
      "pywin32-ctypes                0.2.0\n",
      "pywinpty                      2.0.2\n",
      "PyYAML                        6.0\n",
      "pyzmq                         22.3.0\n",
      "QDarkStyle                    3.0.2\n",
      "qstylizer                     0.1.10\n",
      "QtAwesome                     1.0.3\n",
      "qtconsole                     5.3.0\n",
      "QtPy                          2.0.1\n",
      "queuelib                      1.5.0\n",
      "regex                         2022.3.15\n",
      "requests                      2.27.1\n",
      "requests-file                 1.5.1\n",
      "rope                          0.22.0\n",
      "rsa                           4.7.2\n",
      "Rtree                         0.9.7\n",
      "ruamel-yaml-conda             0.15.100\n",
      "s3transfer                    0.5.0\n",
      "scikit-image                  0.19.2\n",
      "scikit-learn                  1.0.2\n",
      "scikit-learn-intelex          2021.20220215.102710\n",
      "scipy                         1.7.3\n",
      "Scrapy                        2.6.1\n",
      "seaborn                       0.11.2\n",
      "Send2Trash                    1.8.0\n",
      "service-identity              18.1.0\n",
      "setuptools                    61.2.0\n",
      "sip                           4.19.13\n",
      "six                           1.16.0\n",
      "smart-open                    5.1.0\n",
      "sniffio                       1.2.0\n",
      "snowballstemmer               2.2.0\n",
      "sortedcollections             2.1.0\n",
      "sortedcontainers              2.4.0\n",
      "soupsieve                     2.3.1\n",
      "Sphinx                        4.4.0\n",
      "sphinxcontrib-applehelp       1.0.2\n",
      "sphinxcontrib-devhelp         1.0.2\n",
      "sphinxcontrib-htmlhelp        2.0.0\n",
      "sphinxcontrib-jsmath          1.0.1\n",
      "sphinxcontrib-qthelp          1.0.3\n",
      "sphinxcontrib-serializinghtml 1.1.5\n",
      "spyder                        5.1.5\n",
      "spyder-kernels                2.1.3\n",
      "SQLAlchemy                    1.4.32\n",
      "stack-data                    0.2.0\n",
      "statsmodels                   0.13.2\n",
      "sympy                         1.10.1\n",
      "tables                        3.6.1\n",
      "tabulate                      0.8.9\n",
      "TBB                           0.2\n",
      "tblib                         1.7.0\n",
      "tenacity                      8.0.1\n",
      "terminado                     0.13.1\n",
      "testpath                      0.5.0\n",
      "text-unidecode                1.3\n",
      "textdistance                  4.2.1\n",
      "threadpoolctl                 2.2.0\n",
      "three-merge                   0.1.1\n",
      "tifffile                      2021.7.2\n",
      "tinycss                       0.4\n",
      "tldextract                    3.2.0\n",
      "toml                          0.10.2\n",
      "tomli                         1.2.2\n",
      "toolz                         0.11.2\n",
      "tornado                       6.1\n",
      "tqdm                          4.64.0\n",
      "traitlets                     5.1.1\n",
      "Twisted                       22.2.0\n",
      "twisted-iocpsupport           1.0.2\n",
      "typed-ast                     1.4.3\n",
      "typing_extensions             4.1.1\n",
      "ujson                         5.1.0\n",
      "Unidecode                     1.2.0\n",
      "urllib3                       1.26.9\n",
      "w3lib                         1.21.0\n",
      "watchdog                      2.1.6\n",
      "wcwidth                       0.2.5\n",
      "webencodings                  0.5.1\n",
      "websocket-client              0.58.0\n",
      "Werkzeug                      2.0.3\n",
      "wheel                         0.37.1\n",
      "widgetsnbextension            3.5.2\n",
      "win-inet-pton                 1.1.0\n",
      "win-unicode-console           0.5\n",
      "wincertstore                  0.2\n",
      "wrapt                         1.12.1\n",
      "xarray                        0.20.1\n",
      "xlrd                          2.0.1\n",
      "XlsxWriter                    3.0.3\n",
      "xlwings                       0.24.9\n",
      "yapf                          0.31.0\n",
      "yarl                          1.6.3\n",
      "zict                          2.0.0\n",
      "zipp                          3.7.0\n",
      "zope.interface                5.4.0\n",
      "Note: you may need to restart the kernel to use updated packages.\n"
     ]
    }
   ],
   "source": [
    "pip list"
   ]
  },
  {
   "cell_type": "code",
   "execution_count": 2,
   "id": "64eb015d",
   "metadata": {},
   "outputs": [
    {
     "name": "stdout",
     "output_type": "stream",
     "text": [
      "Collecting package metadata (current_repodata.json): ...working... done\n",
      "Solving environment: ...working... done\n",
      "\n",
      "## Package Plan ##\n",
      "\n",
      "  environment location: C:\\Users\\Raj\\anaconda3\n",
      "\n",
      "  added / updated specs:\n",
      "    - numpy\n",
      "\n",
      "\n",
      "The following packages will be downloaded:\n",
      "\n",
      "    package                    |            build\n",
      "    ---------------------------|-----------------\n",
      "    conda-4.14.0               |   py39haa95532_0         937 KB\n",
      "    ------------------------------------------------------------\n",
      "                                           Total:         937 KB\n",
      "\n",
      "The following packages will be UPDATED:\n",
      "\n",
      "  conda                               4.12.0-py39haa95532_0 --> 4.14.0-py39haa95532_0\n",
      "\n",
      "\n",
      "\n",
      "Downloading and Extracting Packages\n",
      "\n",
      "conda-4.14.0         | 937 KB    |            |   0% \n",
      "conda-4.14.0         | 937 KB    | 1          |   2% \n",
      "conda-4.14.0         | 937 KB    | 3          |   3% \n",
      "conda-4.14.0         | 937 KB    | 5          |   5% \n",
      "conda-4.14.0         | 937 KB    | 6          |   7% \n",
      "conda-4.14.0         | 937 KB    | 8          |   9% \n",
      "conda-4.14.0         | 937 KB    | #          |  10% \n",
      "conda-4.14.0         | 937 KB    | #1         |  12% \n",
      "conda-4.14.0         | 937 KB    | #3         |  14% \n",
      "conda-4.14.0         | 937 KB    | #5         |  15% \n",
      "conda-4.14.0         | 937 KB    | #7         |  17% \n",
      "conda-4.14.0         | 937 KB    | #8         |  19% \n",
      "conda-4.14.0         | 937 KB    | ##         |  20% \n",
      "conda-4.14.0         | 937 KB    | ##2        |  22% \n",
      "conda-4.14.0         | 937 KB    | ##3        |  24% \n",
      "conda-4.14.0         | 937 KB    | ##5        |  26% \n",
      "conda-4.14.0         | 937 KB    | ##7        |  27% \n",
      "conda-4.14.0         | 937 KB    | ##9        |  29% \n",
      "conda-4.14.0         | 937 KB    | ###        |  31% \n",
      "conda-4.14.0         | 937 KB    | ###2       |  32% \n",
      "conda-4.14.0         | 937 KB    | ###4       |  34% \n",
      "conda-4.14.0         | 937 KB    | ###5       |  36% \n",
      "conda-4.14.0         | 937 KB    | ###7       |  38% \n",
      "conda-4.14.0         | 937 KB    | ###9       |  39% \n",
      "conda-4.14.0         | 937 KB    | ####       |  41% \n",
      "conda-4.14.0         | 937 KB    | ####2      |  43% \n",
      "conda-4.14.0         | 937 KB    | ####4      |  44% \n",
      "conda-4.14.0         | 937 KB    | ####6      |  46% \n",
      "conda-4.14.0         | 937 KB    | ####7      |  48% \n",
      "conda-4.14.0         | 937 KB    | ####9      |  50% \n",
      "conda-4.14.0         | 937 KB    | #####1     |  51% \n",
      "conda-4.14.0         | 937 KB    | #####2     |  53% \n",
      "conda-4.14.0         | 937 KB    | #####4     |  55% \n",
      "conda-4.14.0         | 937 KB    | #####6     |  56% \n",
      "conda-4.14.0         | 937 KB    | #####8     |  58% \n",
      "conda-4.14.0         | 937 KB    | #####9     |  60% \n",
      "conda-4.14.0         | 937 KB    | ######1    |  61% \n",
      "conda-4.14.0         | 937 KB    | ######3    |  63% \n",
      "conda-4.14.0         | 937 KB    | ######4    |  65% \n",
      "conda-4.14.0         | 937 KB    | ######6    |  67% \n",
      "conda-4.14.0         | 937 KB    | ######8    |  68% \n",
      "conda-4.14.0         | 937 KB    | #######    |  70% \n",
      "conda-4.14.0         | 937 KB    | #######1   |  72% \n",
      "conda-4.14.0         | 937 KB    | #######3   |  73% \n",
      "conda-4.14.0         | 937 KB    | #######5   |  75% \n",
      "conda-4.14.0         | 937 KB    | #######6   |  77% \n",
      "conda-4.14.0         | 937 KB    | #######8   |  79% \n",
      "conda-4.14.0         | 937 KB    | ########   |  80% \n",
      "conda-4.14.0         | 937 KB    | ########1  |  82% \n",
      "conda-4.14.0         | 937 KB    | ########3  |  84% \n",
      "conda-4.14.0         | 937 KB    | ########5  |  85% \n",
      "conda-4.14.0         | 937 KB    | ########7  |  87% \n",
      "conda-4.14.0         | 937 KB    | ########8  |  89% \n",
      "conda-4.14.0         | 937 KB    | #########  |  91% \n",
      "conda-4.14.0         | 937 KB    | #########2 |  92% \n",
      "conda-4.14.0         | 937 KB    | #########3 |  94% \n",
      "conda-4.14.0         | 937 KB    | #########5 |  96% \n",
      "conda-4.14.0         | 937 KB    | #########7 |  97% \n",
      "conda-4.14.0         | 937 KB    | #########9 |  99% \n",
      "conda-4.14.0         | 937 KB    | ########## | 100% \n",
      "conda-4.14.0         | 937 KB    | ########## | 100% \n",
      "Preparing transaction: ...working... done\n",
      "Verifying transaction: ...working... done\n",
      "Executing transaction: ...working... done\n",
      "\n",
      "Note: you may need to restart the kernel to use updated packages.\n"
     ]
    }
   ],
   "source": [
    "conda install numpy"
   ]
  },
  {
   "cell_type": "code",
   "execution_count": 4,
   "id": "ba3930bf",
   "metadata": {},
   "outputs": [],
   "source": [
    "import numpy as np"
   ]
  },
  {
   "cell_type": "code",
   "execution_count": 5,
   "id": "2c921447",
   "metadata": {},
   "outputs": [
    {
     "name": "stdout",
     "output_type": "stream",
     "text": [
      "1.21.5\n"
     ]
    }
   ],
   "source": [
    "print(np.__version__)\n",
    "\n",
    "##to check version of numpy"
   ]
  },
  {
   "cell_type": "code",
   "execution_count": 6,
   "id": "6573afdc",
   "metadata": {},
   "outputs": [
    {
     "data": {
      "text/plain": [
       "array([ 1,  2,  3,  4,  5,  6,  7,  8,  9, 10])"
      ]
     },
     "execution_count": 6,
     "metadata": {},
     "output_type": "execute_result"
    }
   ],
   "source": [
    "arr = np.array([1,2,3,4,5,6,7,8,9,10])\n",
    "\n",
    "arr"
   ]
  },
  {
   "cell_type": "code",
   "execution_count": 8,
   "id": "e24bb288",
   "metadata": {},
   "outputs": [
    {
     "name": "stdout",
     "output_type": "stream",
     "text": [
      "<class 'numpy.ndarray'>\n"
     ]
    }
   ],
   "source": [
    "print(type(arr))"
   ]
  },
  {
   "cell_type": "code",
   "execution_count": 25,
   "id": "6530d2c3",
   "metadata": {},
   "outputs": [
    {
     "name": "stdout",
     "output_type": "stream",
     "text": [
      "1\n",
      "10\n",
      "5.5\n",
      "5.5\n",
      "9\n",
      "2.8722813232690143\n",
      "8.25\n",
      "5.5\n",
      "5.95\n"
     ]
    }
   ],
   "source": [
    "print(np.amin(arr)) ##min value\n",
    "print(np.amax(arr)) ##max value\n",
    "print(np.mean(arr))  ##mean value of data set\n",
    "print(np.median(arr)) \n",
    "print(np.ptp(arr))##range of value along with an axis(peak to peak)\n",
    "print(np.std(arr)) ##standard deviation\n",
    "print(np.var(arr)) ##variance   v=a^2//((standard deviation)^2)\n",
    "print(np.average(arr))  ##for avg\n",
    "print(np.percentile(arr,55)) ##for percentile\n",
    "\n",
    "\n",
    "\n",
    "\n",
    "\n"
   ]
  },
  {
   "cell_type": "code",
   "execution_count": 28,
   "id": "cd4023a5",
   "metadata": {},
   "outputs": [
    {
     "data": {
      "text/plain": [
       "array([[1, 2, 3, 4],\n",
       "       [5, 6, 7, 8]])"
      ]
     },
     "execution_count": 28,
     "metadata": {},
     "output_type": "execute_result"
    }
   ],
   "source": [
    "\n",
    "#create simple array from the list\n",
    "arr = np.array([[1,2,3,4],[5,6,7,8]])\n",
    "arr"
   ]
  },
  {
   "cell_type": "code",
   "execution_count": 29,
   "id": "49a49cdf",
   "metadata": {},
   "outputs": [
    {
     "name": "stdout",
     "output_type": "stream",
     "text": [
      "2\n"
     ]
    }
   ],
   "source": [
    "#dianmension of the arry\n",
    "\n",
    "print(arr.ndim)\n"
   ]
  },
  {
   "cell_type": "code",
   "execution_count": 30,
   "id": "1cbb2d00",
   "metadata": {},
   "outputs": [
    {
     "name": "stdout",
     "output_type": "stream",
     "text": [
      "(2, 4)\n"
     ]
    }
   ],
   "source": [
    "#shape of the array\n",
    "\n",
    "print(arr.shape)"
   ]
  },
  {
   "cell_type": "code",
   "execution_count": 31,
   "id": "05df990f",
   "metadata": {},
   "outputs": [
    {
     "name": "stdout",
     "output_type": "stream",
     "text": [
      "<memory at 0x00000281B80755F0>\n"
     ]
    }
   ],
   "source": [
    "#to find data location\n",
    "\n",
    "print(arr.data)"
   ]
  },
  {
   "cell_type": "markdown",
   "id": "da65ab83",
   "metadata": {},
   "source": [
    "## Random Number Generator Using Numpy "
   ]
  },
  {
   "cell_type": "code",
   "execution_count": 37,
   "id": "6193c02e",
   "metadata": {},
   "outputs": [
    {
     "name": "stdout",
     "output_type": "stream",
     "text": [
      "96\n"
     ]
    }
   ],
   "source": [
    "from numpy import random\n",
    "x = random.randint(100)\n",
    "print(x)\n"
   ]
  },
  {
   "cell_type": "code",
   "execution_count": 38,
   "id": "366eb90d",
   "metadata": {},
   "outputs": [
    {
     "name": "stdout",
     "output_type": "stream",
     "text": [
      "88\n"
     ]
    }
   ],
   "source": [
    "from numpy import random\n",
    "x = random.randint(100)\n",
    "print(x)\n"
   ]
  },
  {
   "cell_type": "code",
   "execution_count": 39,
   "id": "efa54f55",
   "metadata": {},
   "outputs": [
    {
     "name": "stdout",
     "output_type": "stream",
     "text": [
      "10\n"
     ]
    }
   ],
   "source": [
    "from numpy import random\n",
    "x = random.randint(100)\n",
    "print(x)\n"
   ]
  },
  {
   "cell_type": "code",
   "execution_count": 40,
   "id": "34f8ab20",
   "metadata": {},
   "outputs": [
    {
     "name": "stdout",
     "output_type": "stream",
     "text": [
      "2\n"
     ]
    }
   ],
   "source": [
    "from numpy import random\n",
    "x = random.randint(10)\n",
    "print(x)\n"
   ]
  },
  {
   "cell_type": "code",
   "execution_count": 41,
   "id": "d7cb32df",
   "metadata": {},
   "outputs": [
    {
     "ename": "TypeError",
     "evalue": "randint() takes at least 1 positional argument (0 given)",
     "output_type": "error",
     "traceback": [
      "\u001b[1;31m---------------------------------------------------------------------------\u001b[0m",
      "\u001b[1;31mTypeError\u001b[0m                                 Traceback (most recent call last)",
      "Input \u001b[1;32mIn [41]\u001b[0m, in \u001b[0;36m<cell line: 2>\u001b[1;34m()\u001b[0m\n\u001b[0;32m      1\u001b[0m \u001b[38;5;28;01mfrom\u001b[39;00m \u001b[38;5;21;01mnumpy\u001b[39;00m \u001b[38;5;28;01mimport\u001b[39;00m random\n\u001b[1;32m----> 2\u001b[0m x \u001b[38;5;241m=\u001b[39m \u001b[43mrandom\u001b[49m\u001b[38;5;241;43m.\u001b[39;49m\u001b[43mrandint\u001b[49m\u001b[43m(\u001b[49m\u001b[43m)\u001b[49m\n\u001b[0;32m      3\u001b[0m \u001b[38;5;28mprint\u001b[39m(x)\n",
      "File \u001b[1;32mmtrand.pyx:646\u001b[0m, in \u001b[0;36mnumpy.random.mtrand.RandomState.randint\u001b[1;34m()\u001b[0m\n",
      "\u001b[1;31mTypeError\u001b[0m: randint() takes at least 1 positional argument (0 given)"
     ]
    }
   ],
   "source": [
    "from numpy import random\n",
    "x = random.randint()\n",
    "print(x)\n"
   ]
  },
  {
   "cell_type": "code",
   "execution_count": 43,
   "id": "a88e6ea0",
   "metadata": {},
   "outputs": [
    {
     "name": "stdout",
     "output_type": "stream",
     "text": [
      "0.8314965618864514\n"
     ]
    }
   ],
   "source": [
    "from numpy import random   ##to generate random float value\n",
    "x = random.rand()\n",
    "print(x)\n"
   ]
  },
  {
   "cell_type": "code",
   "execution_count": 45,
   "id": "b4b932a7",
   "metadata": {},
   "outputs": [
    {
     "name": "stdout",
     "output_type": "stream",
     "text": [
      "[42 11 22 82 30]\n"
     ]
    }
   ],
   "source": [
    "from numpy import random  ##generate random array\n",
    "x = random.randint(100,size=(5))\n",
    "print(x)\n"
   ]
  },
  {
   "cell_type": "code",
   "execution_count": 46,
   "id": "ab6e984e",
   "metadata": {},
   "outputs": [
    {
     "name": "stdout",
     "output_type": "stream",
     "text": [
      "[46  0 12  8 22]\n"
     ]
    }
   ],
   "source": [
    "from numpy import random  ##generate random array\n",
    "x = random.randint(100,size=(5))\n",
    "print(x)"
   ]
  },
  {
   "cell_type": "code",
   "execution_count": 50,
   "id": "f2e3a22a",
   "metadata": {},
   "outputs": [
    {
     "name": "stdout",
     "output_type": "stream",
     "text": [
      "[[81 26 71 88 44]\n",
      " [13 26 50 74 89]\n",
      " [ 7 44 13  4 55]]\n"
     ]
    }
   ],
   "source": [
    "##Generate a 2-D array eith 3 rows ,each contain 5 ramdom int value\n",
    "\n",
    "from numpy import random  \n",
    "x = random.randint(100,size=(3,5))\n",
    "print(x)\n"
   ]
  },
  {
   "cell_type": "code",
   "execution_count": 1,
   "id": "eab017a3",
   "metadata": {},
   "outputs": [
    {
     "name": "stdout",
     "output_type": "stream",
     "text": [
      "[[95 11 81 70 63]\n",
      " [87 75  9 77 40]\n",
      " [ 4 63 40 60 92]]\n"
     ]
    }
   ],
   "source": [
    "from numpy import random  ##ramdom value will not change\n",
    "random.seed(101) \n",
    "x = random.randint(100,size=(3,5))\n",
    "print(x)\n"
   ]
  },
  {
   "cell_type": "code",
   "execution_count": 2,
   "id": "4c0eaa6f",
   "metadata": {},
   "outputs": [
    {
     "name": "stdout",
     "output_type": "stream",
     "text": [
      "[[95 11 81 70 63]\n",
      " [87 75  9 77 40]\n",
      " [ 4 63 40 60 92]]\n"
     ]
    }
   ],
   "source": [
    "from numpy import random  \n",
    "random.seed(101)\n",
    "x = random.randint(100,size=(3,5))\n",
    "print(x)"
   ]
  },
  {
   "cell_type": "code",
   "execution_count": 5,
   "id": "0c917f5b",
   "metadata": {},
   "outputs": [
    {
     "name": "stdout",
     "output_type": "stream",
     "text": [
      "horizontal vector\n",
      "[1 2 3]\n",
      "...........................\n",
      "vertical vector\n",
      "[[10]\n",
      " [20]\n",
      " [30]]\n"
     ]
    }
   ],
   "source": [
    "import numpy as np\n",
    "\n",
    "#creating 1-D list\n",
    "list1 = [1,2,3]\n",
    "\n",
    "#creating 1-D list vertical\n",
    "\n",
    "list2 = [[10],\n",
    "        [20],\n",
    "        [30]]\n",
    "\n",
    "\n",
    "#create vector1\n",
    "\n",
    "vector1 = np.array(list1)\n",
    "vector2 = np.array(list2)\n",
    "\n",
    "print(\"horizontal vector\")\n",
    "print(vector1)\n",
    "\n",
    "print(\"...........................\")\n",
    "\n",
    "print(\"vertical vector\")\n",
    "print(vector2)\n",
    "\n"
   ]
  },
  {
   "cell_type": "code",
   "execution_count": 6,
   "id": "9ea66790",
   "metadata": {},
   "outputs": [
    {
     "name": "stdout",
     "output_type": "stream",
     "text": [
      "[[1 2]\n",
      " [3 4]]\n"
     ]
    }
   ],
   "source": [
    "a=np.matrix(\"1 2;3 4\")\n",
    "print(a)"
   ]
  },
  {
   "cell_type": "code",
   "execution_count": 9,
   "id": "9aa79d72",
   "metadata": {},
   "outputs": [
    {
     "data": {
      "text/plain": [
       "matrix([[list([1, 2, 3]), list([5, 4])]], dtype=object)"
      ]
     },
     "execution_count": 9,
     "metadata": {},
     "output_type": "execute_result"
    }
   ],
   "source": [
    "#array like input\n",
    "b=np.matrix([[1,2,3],[5,4]])\n",
    "b\n"
   ]
  },
  {
   "cell_type": "code",
   "execution_count": 1,
   "id": "378d1482",
   "metadata": {},
   "outputs": [],
   "source": [
    "import numpy as np"
   ]
  },
  {
   "cell_type": "code",
   "execution_count": 3,
   "id": "0a724a56",
   "metadata": {},
   "outputs": [
    {
     "name": "stdout",
     "output_type": "stream",
     "text": [
      "[[30 35]\n",
      " [ 5 10]]\n"
     ]
    }
   ],
   "source": [
    "a = 5\n",
    "b = [[6,7],[1,2]]\n",
    "\n",
    "\n",
    "print(np.dot(a,b))"
   ]
  },
  {
   "cell_type": "code",
   "execution_count": 8,
   "id": "b9245f41",
   "metadata": {},
   "outputs": [
    {
     "name": "stdout",
     "output_type": "stream",
     "text": [
      "[[25 14]\n",
      " [22  8]]\n",
      ".....................\n",
      "[[ 9  6]\n",
      " [54 24]]\n"
     ]
    }
   ],
   "source": [
    "a = [[5,2],\n",
    "     [2,2]]\n",
    "\n",
    "b = [[1,2],\n",
    "     [10,2]]\n",
    "\n",
    "print(np.dot(a,b))\n",
    "print(\".....................\")\n",
    "print(np.dot(b,a))"
   ]
  },
  {
   "cell_type": "code",
   "execution_count": 15,
   "id": "f79fca0a",
   "metadata": {},
   "outputs": [
    {
     "data": {
      "text/plain": [
       "array([[5, 2],\n",
       "       [2, 2]])"
      ]
     },
     "execution_count": 15,
     "metadata": {},
     "output_type": "execute_result"
    }
   ],
   "source": [
    "import numpy as np\n",
    "\n",
    "a = ([5,2], [2,2])\n",
    "\n",
    "np.transpose(a)\n"
   ]
  },
  {
   "cell_type": "code",
   "execution_count": 1,
   "id": "ee9ecfb8",
   "metadata": {},
   "outputs": [],
   "source": [
    "import numpy as np\n"
   ]
  },
  {
   "cell_type": "code",
   "execution_count": null,
   "id": "3cff6dcf",
   "metadata": {},
   "outputs": [],
   "source": []
  },
  {
   "cell_type": "markdown",
   "id": "a111cce1",
   "metadata": {},
   "source": [
    "# Percentile & interquartile in NUmpy"
   ]
  },
  {
   "cell_type": "code",
   "execution_count": 2,
   "id": "4a274f3f",
   "metadata": {},
   "outputs": [],
   "source": [
    "import numpy as np\n"
   ]
  },
  {
   "cell_type": "code",
   "execution_count": 7,
   "id": "174d890b",
   "metadata": {},
   "outputs": [
    {
     "name": "stdout",
     "output_type": "stream",
     "text": [
      "44.5\n",
      "59.5\n",
      "15.0\n"
     ]
    }
   ],
   "source": [
    "data=[32,11,25,45,12,55,56,78,99,44,55,55,46,78,79,26,66,56,63,65]\n",
    "\n",
    "#first quartile(Q1)\n",
    "##a+b/2 middle value\n",
    "Q1=np.median(data[:10])\n",
    "print(Q1)\n",
    "\n",
    "\n",
    "#thrid quartile(Q3)\n",
    "\n",
    "Q3=np.median(data[10:])\n",
    "print(Q3)\n",
    "\n",
    "##interquartile range\n",
    "\n",
    "IQR=Q3-Q1\n",
    "print(IQR)"
   ]
  },
  {
   "cell_type": "markdown",
   "id": "a3c87b3f",
   "metadata": {},
   "source": [
    "# Array Brodcasting in Numpy"
   ]
  },
  {
   "cell_type": "code",
   "execution_count": 9,
   "id": "ca22303c",
   "metadata": {},
   "outputs": [
    {
     "data": {
      "text/plain": [
       "array([2., 4., 6.])"
      ]
     },
     "execution_count": 9,
     "metadata": {},
     "output_type": "execute_result"
    }
   ],
   "source": [
    "a = np.array([1.0,2.0,3.0])\n",
    "b = np.array([2.0,2.0,2.0])\n",
    "\n",
    "a*b"
   ]
  },
  {
   "cell_type": "code",
   "execution_count": 10,
   "id": "ca1ac4c2",
   "metadata": {},
   "outputs": [
    {
     "data": {
      "text/plain": [
       "array([2., 4., 6.])"
      ]
     },
     "execution_count": 10,
     "metadata": {},
     "output_type": "execute_result"
    }
   ],
   "source": [
    "a = np.array([1.0,2.0,3.0])\n",
    "b = 2.0\n",
    "\n",
    "a*b"
   ]
  },
  {
   "cell_type": "markdown",
   "id": "823dd3a9",
   "metadata": {},
   "source": [
    "# Calculate BMI of Cricket Players"
   ]
  },
  {
   "cell_type": "code",
   "execution_count": 11,
   "id": "c24930e5",
   "metadata": {},
   "outputs": [],
   "source": [
    "#heights of players"
   ]
  },
  {
   "cell_type": "code",
   "execution_count": 14,
   "id": "01be3d28",
   "metadata": {},
   "outputs": [
    {
     "data": {
      "text/plain": [
       "array([1.4945, 1.5925, 1.568 , 1.6905, 1.715 , 1.666 , 1.568 , 1.5435,\n",
       "       1.519 , 1.617 , 1.764 ])"
      ]
     },
     "execution_count": 14,
     "metadata": {},
     "output_type": "execute_result"
    }
   ],
   "source": [
    "hg_in=[61,65,64,69,70,68,64,63,62,66,72]\n",
    "\n",
    "#convert into numpy array\n",
    "\n",
    "ht_np=np.array(hg_in)\n",
    "\n",
    "#conver height from inch to meter by exposing it to 0.0245\n",
    "\n",
    "ht_np = ht_np*0.0245\n",
    "\n",
    "ht_np"
   ]
  },
  {
   "cell_type": "code",
   "execution_count": 15,
   "id": "7202100e",
   "metadata": {},
   "outputs": [
    {
     "data": {
      "text/plain": [
       "array([45.  , 90.  , 72.  , 81.  , 63.  , 69.75, 74.25, 77.4 , 81.  ,\n",
       "       90.  , 75.6 ])"
      ]
     },
     "execution_count": 15,
     "metadata": {},
     "output_type": "execute_result"
    }
   ],
   "source": [
    "#weight of players in pound\n",
    "\n",
    "wt_pd = [100,200,160,180,140,155,165,172,180,200,168]\n",
    "\n",
    "#convert into numpy array\n",
    "\n",
    "wt_np=np.array(wt_pd)\n",
    "\n",
    "#conver weight from pound to kg by exposing it to 0.45\n",
    "\n",
    "wt_np = wt_np*0.45\n",
    "\n",
    "\n",
    "wt_np"
   ]
  },
  {
   "cell_type": "code",
   "execution_count": 16,
   "id": "27a62692",
   "metadata": {},
   "outputs": [
    {
     "data": {
      "text/plain": [
       "array([20.1474773 , 35.48817184, 29.28467305, 28.3435777 , 21.41964658,\n",
       "       25.13010006, 30.19981909, 32.48835283, 35.10503991, 34.42091966,\n",
       "       24.29543246])"
      ]
     },
     "execution_count": 16,
     "metadata": {},
     "output_type": "execute_result"
    }
   ],
   "source": [
    "#BMI calculation\n",
    "\n",
    "BMI= wt_np/(ht_np**2)\n",
    "BMI"
   ]
  },
  {
   "cell_type": "code",
   "execution_count": 17,
   "id": "f3aa96ef",
   "metadata": {},
   "outputs": [
    {
     "data": {
      "text/plain": [
       "24.295432458697764"
      ]
     },
     "execution_count": 17,
     "metadata": {},
     "output_type": "execute_result"
    }
   ],
   "source": [
    "BMI[-1]"
   ]
  },
  {
   "cell_type": "code",
   "execution_count": 18,
   "id": "62789f11",
   "metadata": {},
   "outputs": [
    {
     "data": {
      "text/plain": [
       "array([20.1474773])"
      ]
     },
     "execution_count": 18,
     "metadata": {},
     "output_type": "execute_result"
    }
   ],
   "source": [
    "BMI[BMI<21]"
   ]
  },
  {
   "cell_type": "code",
   "execution_count": 19,
   "id": "a7439884",
   "metadata": {},
   "outputs": [
    {
     "data": {
      "text/plain": [
       "array([20.1474773 , 35.48817184, 29.28467305, 28.3435777 , 21.41964658])"
      ]
     },
     "execution_count": 19,
     "metadata": {},
     "output_type": "execute_result"
    }
   ],
   "source": [
    "BMI[:5]"
   ]
  },
  {
   "cell_type": "markdown",
   "id": "f56f0824",
   "metadata": {},
   "source": [
    "#making 2d array of players"
   ]
  },
  {
   "cell_type": "code",
   "execution_count": 21,
   "id": "f5213d75",
   "metadata": {},
   "outputs": [
    {
     "data": {
      "text/plain": [
       "array([[45.    , 90.    , 72.    , 81.    , 63.    , 69.75  , 74.25  ,\n",
       "        77.4   , 81.    , 90.    , 75.6   ],\n",
       "       [ 1.4945,  1.5925,  1.568 ,  1.6905,  1.715 ,  1.666 ,  1.568 ,\n",
       "         1.5435,  1.519 ,  1.617 ,  1.764 ]])"
      ]
     },
     "execution_count": 21,
     "metadata": {},
     "output_type": "execute_result"
    }
   ],
   "source": [
    "players = np.array([wt_np,ht_np])\n",
    "players\n"
   ]
  },
  {
   "cell_type": "code",
   "execution_count": 22,
   "id": "1d066106",
   "metadata": {},
   "outputs": [
    {
     "data": {
      "text/plain": [
       "72.0"
      ]
     },
     "execution_count": 22,
     "metadata": {},
     "output_type": "execute_result"
    }
   ],
   "source": [
    "players[0][2]"
   ]
  },
  {
   "cell_type": "code",
   "execution_count": 23,
   "id": "787c4558",
   "metadata": {},
   "outputs": [
    {
     "data": {
      "text/plain": [
       "1.568"
      ]
     },
     "execution_count": 23,
     "metadata": {},
     "output_type": "execute_result"
    }
   ],
   "source": [
    "players[1][2]"
   ]
  },
  {
   "cell_type": "code",
   "execution_count": 24,
   "id": "40455fc6",
   "metadata": {},
   "outputs": [
    {
     "data": {
      "text/plain": [
       "array([1.4945, 1.5925, 1.568 , 1.6905, 1.715 , 1.666 , 1.568 , 1.5435,\n",
       "       1.519 , 1.617 , 1.764 ])"
      ]
     },
     "execution_count": 24,
     "metadata": {},
     "output_type": "execute_result"
    }
   ],
   "source": [
    "players[1]"
   ]
  },
  {
   "cell_type": "code",
   "execution_count": 28,
   "id": "a076d618",
   "metadata": {},
   "outputs": [
    {
     "name": "stdout",
     "output_type": "stream",
     "text": [
      "(11, 2)\n",
      "---------------------------------\n",
      "[[45.      1.4945]\n",
      " [90.      1.5925]\n",
      " [72.      1.568 ]\n",
      " [81.      1.6905]\n",
      " [63.      1.715 ]\n",
      " [69.75    1.666 ]\n",
      " [74.25    1.568 ]\n",
      " [77.4     1.5435]\n",
      " [81.      1.519 ]\n",
      " [90.      1.617 ]\n",
      " [75.6     1.764 ]]\n"
     ]
    }
   ],
   "source": [
    "#transpose\n",
    "\n",
    "pT=players.transpose()\n",
    "print(pT.shape)\n",
    "\n",
    "print(\"---------------------------------\")\n",
    "print(pT)"
   ]
  },
  {
   "cell_type": "code",
   "execution_count": 31,
   "id": "5b916a09",
   "metadata": {},
   "outputs": [
    {
     "name": "stdout",
     "output_type": "stream",
     "text": [
      "74.45454545454545\n",
      "75.60000000000001\n",
      "819.0\n",
      "12.082941667443528\n",
      "[[1.         0.16451886]\n",
      " [0.16451886 1.        ]]\n"
     ]
    }
   ],
   "source": [
    "#stastical and mathematcal function on players data\n",
    "\n",
    "print(np.mean(wt_np))\n",
    "\n",
    "print(np.median(wt_np))\n",
    "\n",
    "print(np.sum(wt_np))\n",
    "\n",
    "\n",
    "#standard deviation\n",
    "\n",
    "print(np.std(wt_np))\n",
    "\n",
    "\n",
    "#corelation cofficient\n",
    "print(np.corrcoef(wt_np,ht_np))\n"
   ]
  },
  {
   "cell_type": "code",
   "execution_count": 1,
   "id": "08ee8e52",
   "metadata": {},
   "outputs": [],
   "source": [
    "import numpy as np"
   ]
  },
  {
   "cell_type": "code",
   "execution_count": 2,
   "id": "277756e1",
   "metadata": {},
   "outputs": [
    {
     "data": {
      "text/plain": [
       "array([ 10,  20,  30,  40,  50,  60,  70,  80,  90, 100])"
      ]
     },
     "execution_count": 2,
     "metadata": {},
     "output_type": "execute_result"
    }
   ],
   "source": [
    "length=[10,20,30,40,50,60,70,80,90,100]\n",
    "length_array=np.array(length)\n",
    "length_array"
   ]
  },
  {
   "cell_type": "code",
   "execution_count": 4,
   "id": "3c6823a9",
   "metadata": {},
   "outputs": [
    {
     "data": {
      "text/plain": [
       "array([ 10,  20,  30,  40,  50,  60,  70,  80,  90, 100])"
      ]
     },
     "execution_count": 4,
     "metadata": {},
     "output_type": "execute_result"
    }
   ],
   "source": [
    "breadth=[10,20,30,40,50,60,70,80,90,100]\n",
    "breadth_array=np.array(breadth)\n",
    "breadth_array"
   ]
  },
  {
   "cell_type": "code",
   "execution_count": 7,
   "id": "83539a5c",
   "metadata": {},
   "outputs": [
    {
     "data": {
      "text/plain": [
       "array([  100,   400,   900,  1600,  2500,  3600,  4900,  6400,  8100,\n",
       "       10000])"
      ]
     },
     "execution_count": 7,
     "metadata": {},
     "output_type": "execute_result"
    }
   ],
   "source": [
    "area=length_array*breadth_array\n",
    "area"
   ]
  },
  {
   "cell_type": "code",
   "execution_count": null,
   "id": "d0686ddf",
   "metadata": {},
   "outputs": [],
   "source": []
  }
 ],
 "metadata": {
  "kernelspec": {
   "display_name": "Python 3 (ipykernel)",
   "language": "python",
   "name": "python3"
  },
  "language_info": {
   "codemirror_mode": {
    "name": "ipython",
    "version": 3
   },
   "file_extension": ".py",
   "mimetype": "text/x-python",
   "name": "python",
   "nbconvert_exporter": "python",
   "pygments_lexer": "ipython3",
   "version": "3.9.12"
  }
 },
 "nbformat": 4,
 "nbformat_minor": 5
}
