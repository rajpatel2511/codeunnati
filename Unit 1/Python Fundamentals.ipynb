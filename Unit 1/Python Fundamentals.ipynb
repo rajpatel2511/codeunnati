{
 "cells": [
  {
   "cell_type": "markdown",
   "id": "7cd66bed",
   "metadata": {},
   "source": [
    "# Python Variables"
   ]
  },
  {
   "cell_type": "code",
   "execution_count": 4,
   "id": "41df7db2",
   "metadata": {},
   "outputs": [
    {
     "name": "stdout",
     "output_type": "stream",
     "text": [
      "raj\n",
      "20\n",
      "50\n",
      "70\n"
     ]
    }
   ],
   "source": [
    "var1 = \"raj\"\n",
    "a = 20\n",
    "b = 50\n",
    "print(var1)\n",
    "print(a)\n",
    "print(b)\n",
    "\n",
    "sum =a+b\n",
    "print(sum)"
   ]
  },
  {
   "cell_type": "code",
   "execution_count": 6,
   "id": "df20032a",
   "metadata": {},
   "outputs": [
    {
     "name": "stdout",
     "output_type": "stream",
     "text": [
      "20\n",
      "0\n",
      "100\n",
      "1.0\n"
     ]
    }
   ],
   "source": [
    "var1 = 10\n",
    "var2= 10\n",
    "\n",
    "\n",
    "var3= var1 + var2\n",
    "var4= var1 - var2\n",
    "var5= var1 * var2\n",
    "var6= var1 / var2\n",
    "\n",
    "\n",
    "print(var3)\n",
    "print(var4)\n",
    "print(var5)\n",
    "print(var6)"
   ]
  },
  {
   "cell_type": "code",
   "execution_count": 10,
   "id": "ca0858cf",
   "metadata": {},
   "outputs": [
    {
     "name": "stdout",
     "output_type": "stream",
     "text": [
      "100,20,Raj\n",
      "1,2,ABCD\n"
     ]
    }
   ],
   "source": [
    "a = 100\n",
    "b = 20\n",
    "c = \"Raj\"\n",
    "\n",
    "x,y,z = 1,2,\"ABCD\"\n",
    "\n",
    "print(a,b,c , sep=\",\") \n",
    "\n",
    "print(x,y,z  , sep=\",\")"
   ]
  },
  {
   "cell_type": "code",
   "execution_count": 11,
   "id": "0b80a17a",
   "metadata": {},
   "outputs": [
    {
     "name": "stdout",
     "output_type": "stream",
     "text": [
      "1 1 1\n"
     ]
    }
   ],
   "source": [
    "a=b=c=1\n",
    "a\n",
    "b\n",
    "c\n",
    "\n",
    "print(a,b,c)"
   ]
  },
  {
   "cell_type": "code",
   "execution_count": 12,
   "id": "aa22d95b",
   "metadata": {},
   "outputs": [
    {
     "data": {
      "text/plain": [
       "14"
      ]
     },
     "execution_count": 12,
     "metadata": {},
     "output_type": "execute_result"
    }
   ],
   "source": [
    "s,d,f=12,13,14\n",
    "f"
   ]
  },
  {
   "cell_type": "code",
   "execution_count": 13,
   "id": "7580943b",
   "metadata": {},
   "outputs": [],
   "source": [
    "del f"
   ]
  },
  {
   "cell_type": "code",
   "execution_count": 14,
   "id": "3fff87c3",
   "metadata": {
    "scrolled": false
   },
   "outputs": [
    {
     "ename": "NameError",
     "evalue": "name 'f' is not defined",
     "output_type": "error",
     "traceback": [
      "\u001b[1;31m---------------------------------------------------------------------------\u001b[0m",
      "\u001b[1;31mNameError\u001b[0m                                 Traceback (most recent call last)",
      "Input \u001b[1;32mIn [14]\u001b[0m, in \u001b[0;36m<cell line: 1>\u001b[1;34m()\u001b[0m\n\u001b[1;32m----> 1\u001b[0m \u001b[43mf\u001b[49m\n",
      "\u001b[1;31mNameError\u001b[0m: name 'f' is not defined"
     ]
    }
   ],
   "source": [
    "f"
   ]
  },
  {
   "cell_type": "markdown",
   "id": "d347ead0",
   "metadata": {},
   "source": [
    "# Data Types\n",
    "numerical data type in float complex\n"
   ]
  },
  {
   "cell_type": "code",
   "execution_count": 16,
   "id": "927d7686",
   "metadata": {},
   "outputs": [
    {
     "name": "stdout",
     "output_type": "stream",
     "text": [
      "<class 'int'>\n",
      "<class 'float'>\n",
      "<class 'complex'>\n",
      "<class 'str'>\n",
      "<class 'bool'>\n"
     ]
    }
   ],
   "source": [
    "a=67\n",
    "b=99.9999\n",
    "c=3.14j\n",
    "d=\"Raj\"\n",
    "e=True\n",
    "\n",
    "print(type(a))\n",
    "print(type(b))\n",
    "print(type(c))\n",
    "print(type(d))\n",
    "print(type(e))"
   ]
  },
  {
   "cell_type": "markdown",
   "id": "d76687b6",
   "metadata": {},
   "source": [
    "# How to take input from user \n"
   ]
  },
  {
   "cell_type": "code",
   "execution_count": 2,
   "id": "2e9167c9",
   "metadata": {},
   "outputs": [
    {
     "name": "stdout",
     "output_type": "stream",
     "text": [
      "enter the value of x: 10\n",
      "enter the value of y: 10\n"
     ]
    },
    {
     "data": {
      "text/plain": [
       "100"
      ]
     },
     "execution_count": 2,
     "metadata": {},
     "output_type": "execute_result"
    }
   ],
   "source": [
    "##ask user to enter the value of x and store the variable\n",
    "x = int(input(\"enter the value of x: \"))\n",
    "\n",
    "\n",
    "##ask user to enter the value of y and store the variable\n",
    "y = int(input(\"enter the value of y: \"))\n",
    "\n",
    "##peform any mathematical operation on user input\n",
    "\n",
    "z =x*y\n",
    "\n",
    "##print the ans\n",
    "\n",
    "z"
   ]
  },
  {
   "cell_type": "code",
   "execution_count": 7,
   "id": "34a00fa4",
   "metadata": {},
   "outputs": [
    {
     "data": {
      "text/plain": [
       "'i like python programing '"
      ]
     },
     "execution_count": 7,
     "metadata": {},
     "output_type": "execute_result"
    }
   ],
   "source": [
    "str1=\"i like python programing \"\n",
    "\n",
    "str1\n"
   ]
  },
  {
   "cell_type": "code",
   "execution_count": 10,
   "id": "6f214f0f",
   "metadata": {},
   "outputs": [
    {
     "data": {
      "text/plain": [
       "'number one'"
      ]
     },
     "execution_count": 10,
     "metadata": {},
     "output_type": "execute_result"
    }
   ],
   "source": [
    "str2=\"number one\"\n",
    "str2"
   ]
  },
  {
   "cell_type": "code",
   "execution_count": 11,
   "id": "aa261e21",
   "metadata": {},
   "outputs": [
    {
     "data": {
      "text/plain": [
       "'i like python programing number one'"
      ]
     },
     "execution_count": 11,
     "metadata": {},
     "output_type": "execute_result"
    }
   ],
   "source": [
    "str3=str1+str2\n",
    "str3"
   ]
  },
  {
   "cell_type": "code",
   "execution_count": 13,
   "id": "30038d55",
   "metadata": {},
   "outputs": [
    {
     "name": "stdout",
     "output_type": "stream",
     "text": [
      "rajpatel\n",
      "8\n"
     ]
    }
   ],
   "source": [
    "##string indexing and slicing\n",
    "\n",
    "name =\"rajpatel\"\n",
    "print(name)\n",
    "print(len(name))"
   ]
  },
  {
   "cell_type": "code",
   "execution_count": 17,
   "id": "877fb6d0",
   "metadata": {},
   "outputs": [
    {
     "data": {
      "text/plain": [
       "'r'"
      ]
     },
     "execution_count": 17,
     "metadata": {},
     "output_type": "execute_result"
    }
   ],
   "source": [
    "name[0]"
   ]
  },
  {
   "cell_type": "code",
   "execution_count": 18,
   "id": "0791156d",
   "metadata": {},
   "outputs": [
    {
     "data": {
      "text/plain": [
       "'l'"
      ]
     },
     "execution_count": 18,
     "metadata": {},
     "output_type": "execute_result"
    }
   ],
   "source": [
    "name[-1]"
   ]
  },
  {
   "cell_type": "code",
   "execution_count": 29,
   "id": "f349105a",
   "metadata": {
    "scrolled": true
   },
   "outputs": [
    {
     "name": "stdout",
     "output_type": "stream",
     "text": [
      "my name is raj i am from neotech\n",
      "32\n",
      "-----(+ev index)-----\n",
      "y\n",
      "n\n",
      "m\n",
      " \n",
      " \n",
      "c\n",
      "-----(-ev index)-----\n",
      "o\n",
      " \n",
      "o\n",
      "n\n",
      "h\n",
      "e\n"
     ]
    }
   ],
   "source": [
    "name1=\"my name is raj i am from neotech\"\n",
    "print(name1)\n",
    "print(len(name1))\n",
    "\n",
    "print(\"-----(+ev index)-----\")\n",
    "\n",
    "print(name1[1])\n",
    "print(name1[3])\n",
    "print(name1[5])\n",
    "print(name1[7])\n",
    "print(name1[10])\n",
    "print(name1[30])\n",
    "\n",
    "print(\"-----(-ev index)-----\")\n",
    "\n",
    "print(name1[-10])\n",
    "print(name1[-30])\n",
    "print(name1[-5])\n",
    "print(name1[-7])\n",
    "print(name1[-1])\n",
    "print(name1[-3])"
   ]
  },
  {
   "cell_type": "markdown",
   "id": "1af8a680",
   "metadata": {},
   "source": [
    "#Slicing (23/08/22) "
   ]
  },
  {
   "cell_type": "code",
   "execution_count": 1,
   "id": "1dcf0f22",
   "metadata": {},
   "outputs": [
    {
     "data": {
      "text/plain": [
       "'my'"
      ]
     },
     "execution_count": 1,
     "metadata": {},
     "output_type": "execute_result"
    }
   ],
   "source": [
    "##slicing\n",
    "\n",
    "name2=\"my name is raj\"\n",
    "name2[0:2]"
   ]
  },
  {
   "cell_type": "code",
   "execution_count": null,
   "id": "a26e6bbf",
   "metadata": {},
   "outputs": [],
   "source": []
  },
  {
   "cell_type": "code",
   "execution_count": 2,
   "id": "0f54075f",
   "metadata": {},
   "outputs": [
    {
     "data": {
      "text/plain": [
       "'name'"
      ]
     },
     "execution_count": 2,
     "metadata": {},
     "output_type": "execute_result"
    }
   ],
   "source": [
    "name2[3:7]"
   ]
  },
  {
   "cell_type": "code",
   "execution_count": 3,
   "id": "f02cb324",
   "metadata": {},
   "outputs": [
    {
     "data": {
      "text/plain": [
       "' is raj'"
      ]
     },
     "execution_count": 3,
     "metadata": {},
     "output_type": "execute_result"
    }
   ],
   "source": [
    "name2[7:]\n"
   ]
  },
  {
   "cell_type": "code",
   "execution_count": 4,
   "id": "c4e04e33",
   "metadata": {},
   "outputs": [
    {
     "data": {
      "text/plain": [
       "'my name '"
      ]
     },
     "execution_count": 4,
     "metadata": {},
     "output_type": "execute_result"
    }
   ],
   "source": [
    "name2[:8]"
   ]
  },
  {
   "cell_type": "code",
   "execution_count": 14,
   "id": "a9a4b322",
   "metadata": {},
   "outputs": [
    {
     "data": {
      "text/plain": [
       "''"
      ]
     },
     "execution_count": 14,
     "metadata": {},
     "output_type": "execute_result"
    }
   ],
   "source": [
    "name2[-2:-5]"
   ]
  },
  {
   "cell_type": "code",
   "execution_count": 15,
   "id": "2f67456c",
   "metadata": {},
   "outputs": [
    {
     "data": {
      "text/plain": [
       "'s ra'"
      ]
     },
     "execution_count": 15,
     "metadata": {},
     "output_type": "execute_result"
    }
   ],
   "source": [
    "name2[-5:-1]"
   ]
  },
  {
   "cell_type": "code",
   "execution_count": 19,
   "id": "136c4354",
   "metadata": {},
   "outputs": [
    {
     "data": {
      "text/plain": [
       "'s raj'"
      ]
     },
     "execution_count": 19,
     "metadata": {},
     "output_type": "execute_result"
    }
   ],
   "source": [
    "name2[-5:]"
   ]
  },
  {
   "cell_type": "code",
   "execution_count": 21,
   "id": "87bc3c4a",
   "metadata": {},
   "outputs": [
    {
     "data": {
      "text/plain": [
       "'my name is raj'"
      ]
     },
     "execution_count": 21,
     "metadata": {},
     "output_type": "execute_result"
    }
   ],
   "source": [
    "name2[:]"
   ]
  },
  {
   "cell_type": "markdown",
   "id": "ab956f92",
   "metadata": {},
   "source": [
    "# String Formatting"
   ]
  },
  {
   "cell_type": "code",
   "execution_count": 29,
   "id": "4d2e19cb",
   "metadata": {},
   "outputs": [
    {
     "name": "stdout",
     "output_type": "stream",
     "text": [
      "\n",
      " print string in positional order:\n",
      "namemyraj\n"
     ]
    }
   ],
   "source": [
    "str1=\"{1}{0}{2}\".format(\"my\",\"name\",\"raj\")\n",
    "print(\"\\n print string in positional order:\")\n",
    "print(str1)"
   ]
  },
  {
   "cell_type": "code",
   "execution_count": 32,
   "id": "3f6a69c1",
   "metadata": {},
   "outputs": [
    {
     "name": "stdout",
     "output_type": "stream",
     "text": [
      "\n",
      " print string in positional order:\n",
      "mynameraj\n"
     ]
    }
   ],
   "source": [
    "str1=\"{0}{1}{2}\".format(\"my\",\"name\",\"raj\")\n",
    "\n",
    "print(\"\\n print string in positional order:\")\n",
    "print(str1)"
   ]
  },
  {
   "cell_type": "markdown",
   "id": "d4f6fac9",
   "metadata": {},
   "source": [
    "# Python List\n",
    "##lists are mutable\n",
    "\n",
    "##[]\n"
   ]
  },
  {
   "cell_type": "code",
   "execution_count": 33,
   "id": "04eadc80",
   "metadata": {},
   "outputs": [],
   "source": [
    "my_list=[1,2,3,4,5]"
   ]
  },
  {
   "cell_type": "code",
   "execution_count": 34,
   "id": "ea9d8b37",
   "metadata": {},
   "outputs": [
    {
     "data": {
      "text/plain": [
       "[1, 2, 3, 4, 5]"
      ]
     },
     "execution_count": 34,
     "metadata": {},
     "output_type": "execute_result"
    }
   ],
   "source": [
    "my_list"
   ]
  },
  {
   "cell_type": "code",
   "execution_count": 35,
   "id": "725c1114",
   "metadata": {},
   "outputs": [
    {
     "data": {
      "text/plain": [
       "list"
      ]
     },
     "execution_count": 35,
     "metadata": {},
     "output_type": "execute_result"
    }
   ],
   "source": [
    "type(my_list)"
   ]
  },
  {
   "cell_type": "code",
   "execution_count": 36,
   "id": "c345ee0e",
   "metadata": {},
   "outputs": [
    {
     "data": {
      "text/plain": [
       "int"
      ]
     },
     "execution_count": 36,
     "metadata": {},
     "output_type": "execute_result"
    }
   ],
   "source": [
    "type(my_list[0])"
   ]
  },
  {
   "cell_type": "code",
   "execution_count": 39,
   "id": "7ec6172c",
   "metadata": {},
   "outputs": [],
   "source": [
    "x=[1,2,3,4,3.5,\"hello\"]"
   ]
  },
  {
   "cell_type": "code",
   "execution_count": 40,
   "id": "d740a77f",
   "metadata": {},
   "outputs": [
    {
     "data": {
      "text/plain": [
       "[1, 2, 3, 4, 3.5, 'hello']"
      ]
     },
     "execution_count": 40,
     "metadata": {},
     "output_type": "execute_result"
    }
   ],
   "source": [
    "x"
   ]
  },
  {
   "cell_type": "code",
   "execution_count": 41,
   "id": "8e6f124d",
   "metadata": {},
   "outputs": [
    {
     "data": {
      "text/plain": [
       "1"
      ]
     },
     "execution_count": 41,
     "metadata": {},
     "output_type": "execute_result"
    }
   ],
   "source": [
    "x[0]"
   ]
  },
  {
   "cell_type": "code",
   "execution_count": 42,
   "id": "aace2c7e",
   "metadata": {},
   "outputs": [
    {
     "data": {
      "text/plain": [
       "'hello'"
      ]
     },
     "execution_count": 42,
     "metadata": {},
     "output_type": "execute_result"
    }
   ],
   "source": [
    "x[-1]"
   ]
  },
  {
   "cell_type": "code",
   "execution_count": 43,
   "id": "6932c1e8",
   "metadata": {},
   "outputs": [
    {
     "data": {
      "text/plain": [
       "3"
      ]
     },
     "execution_count": 43,
     "metadata": {},
     "output_type": "execute_result"
    }
   ],
   "source": [
    "x[2]"
   ]
  },
  {
   "cell_type": "code",
   "execution_count": 44,
   "id": "4295db3c",
   "metadata": {},
   "outputs": [
    {
     "data": {
      "text/plain": [
       "[2, 3]"
      ]
     },
     "execution_count": 44,
     "metadata": {},
     "output_type": "execute_result"
    }
   ],
   "source": [
    "x[1:3]"
   ]
  },
  {
   "cell_type": "code",
   "execution_count": 45,
   "id": "291d71d4",
   "metadata": {},
   "outputs": [],
   "source": [
    "x[4]=\"hi\""
   ]
  },
  {
   "cell_type": "code",
   "execution_count": 46,
   "id": "1bf10866",
   "metadata": {},
   "outputs": [
    {
     "data": {
      "text/plain": [
       "'hi'"
      ]
     },
     "execution_count": 46,
     "metadata": {},
     "output_type": "execute_result"
    }
   ],
   "source": [
    "x[4]"
   ]
  },
  {
   "cell_type": "code",
   "execution_count": 47,
   "id": "48d78a31",
   "metadata": {},
   "outputs": [
    {
     "data": {
      "text/plain": [
       "[1, 2, 3, 4, 'hi', 'hello']"
      ]
     },
     "execution_count": 47,
     "metadata": {},
     "output_type": "execute_result"
    }
   ],
   "source": [
    "x"
   ]
  },
  {
   "cell_type": "code",
   "execution_count": 50,
   "id": "6ca41831",
   "metadata": {},
   "outputs": [
    {
     "name": "stdout",
     "output_type": "stream",
     "text": [
      "enter 1st value10\n",
      "\n",
      "enter 2nd value20\n"
     ]
    }
   ],
   "source": [
    "x=input(\"enter 1st value\")\n",
    "y=input(\"enter 2nd value\")\n"
   ]
  },
  {
   "cell_type": "code",
   "execution_count": 49,
   "id": "b15675f8",
   "metadata": {},
   "outputs": [
    {
     "data": {
      "text/plain": [
       "'1020'"
      ]
     },
     "execution_count": 49,
     "metadata": {},
     "output_type": "execute_result"
    }
   ],
   "source": [
    "x+y"
   ]
  },
  {
   "cell_type": "code",
   "execution_count": 51,
   "id": "05867fea",
   "metadata": {},
   "outputs": [
    {
     "data": {
      "text/plain": [
       "30"
      ]
     },
     "execution_count": 51,
     "metadata": {},
     "output_type": "execute_result"
    }
   ],
   "source": [
    "x=int(x)\n",
    "y=int(y)\n",
    "\n",
    "x+y"
   ]
  },
  {
   "cell_type": "markdown",
   "id": "783efdf0",
   "metadata": {},
   "source": [
    "# Tuples \n",
    "\n",
    "##()"
   ]
  },
  {
   "cell_type": "code",
   "execution_count": 55,
   "id": "23e93df8",
   "metadata": {},
   "outputs": [
    {
     "data": {
      "text/plain": [
       "tuple"
      ]
     },
     "execution_count": 55,
     "metadata": {},
     "output_type": "execute_result"
    }
   ],
   "source": [
    "a = (\"abcd\",745,12,2.23,'raj')\n",
    "b=(\"jay\",120)\n",
    "\n",
    "type(a)"
   ]
  },
  {
   "cell_type": "code",
   "execution_count": 56,
   "id": "509892fd",
   "metadata": {},
   "outputs": [
    {
     "data": {
      "text/plain": [
       "('abcd', 745, 12, 2.23, 'raj', 'jay', 120)"
      ]
     },
     "execution_count": 56,
     "metadata": {},
     "output_type": "execute_result"
    }
   ],
   "source": [
    "a+b"
   ]
  },
  {
   "cell_type": "code",
   "execution_count": 57,
   "id": "0e93a10a",
   "metadata": {},
   "outputs": [
    {
     "data": {
      "text/plain": [
       "('abcd', 745, 12, 2.23, 'raj', 'abcd', 745, 12, 2.23, 'raj')"
      ]
     },
     "execution_count": 57,
     "metadata": {},
     "output_type": "execute_result"
    }
   ],
   "source": [
    "a*2"
   ]
  },
  {
   "cell_type": "code",
   "execution_count": 58,
   "id": "e721a493",
   "metadata": {},
   "outputs": [
    {
     "data": {
      "text/plain": [
       "'abcd'"
      ]
     },
     "execution_count": 58,
     "metadata": {},
     "output_type": "execute_result"
    }
   ],
   "source": [
    "a[0]\n",
    "\n",
    "##for indexing use [] \n"
   ]
  },
  {
   "cell_type": "markdown",
   "id": "b72a4064",
   "metadata": {},
   "source": [
    "# Python Dictionary"
   ]
  },
  {
   "cell_type": "code",
   "execution_count": 59,
   "id": "e2b9f071",
   "metadata": {},
   "outputs": [
    {
     "data": {
      "text/plain": [
       "dict"
      ]
     },
     "execution_count": 59,
     "metadata": {},
     "output_type": "execute_result"
    }
   ],
   "source": [
    "empl={}\n",
    "type(empl)"
   ]
  },
  {
   "cell_type": "code",
   "execution_count": 61,
   "id": "46e44227",
   "metadata": {},
   "outputs": [],
   "source": [
    "empl[\"name\"]=\"raj\"\n",
    "empl[\"age\"]=22\n",
    "empl[\"gender\"]=\"M\""
   ]
  },
  {
   "cell_type": "code",
   "execution_count": 63,
   "id": "448a1cda",
   "metadata": {},
   "outputs": [
    {
     "data": {
      "text/plain": [
       "{'name': 'raj', 'age': 22, 'gender': 'M'}"
      ]
     },
     "execution_count": 63,
     "metadata": {},
     "output_type": "execute_result"
    }
   ],
   "source": [
    "empl"
   ]
  },
  {
   "cell_type": "code",
   "execution_count": 64,
   "id": "986eed52",
   "metadata": {},
   "outputs": [
    {
     "data": {
      "text/plain": [
       "'raj'"
      ]
     },
     "execution_count": 64,
     "metadata": {},
     "output_type": "execute_result"
    }
   ],
   "source": [
    "empl[\"name\"]"
   ]
  },
  {
   "cell_type": "code",
   "execution_count": 1,
   "id": "599531c1",
   "metadata": {},
   "outputs": [
    {
     "ename": "NameError",
     "evalue": "name 'empl' is not defined",
     "output_type": "error",
     "traceback": [
      "\u001b[1;31m---------------------------------------------------------------------------\u001b[0m",
      "\u001b[1;31mNameError\u001b[0m                                 Traceback (most recent call last)",
      "Input \u001b[1;32mIn [1]\u001b[0m, in \u001b[0;36m<cell line: 1>\u001b[1;34m()\u001b[0m\n\u001b[1;32m----> 1\u001b[0m \u001b[43mempl\u001b[49m[\u001b[38;5;241m0\u001b[39m]\n",
      "\u001b[1;31mNameError\u001b[0m: name 'empl' is not defined"
     ]
    }
   ],
   "source": [
    "empl[0]\n",
    "##indexing is not possible by index number"
   ]
  },
  {
   "cell_type": "markdown",
   "id": "222b921a",
   "metadata": {},
   "source": [
    "# Python Loops  (24/08/22)"
   ]
  },
  {
   "cell_type": "markdown",
   "id": "b12edeaa",
   "metadata": {},
   "source": [
    "# while loop\n",
    "\n",
    "\n"
   ]
  },
  {
   "cell_type": "code",
   "execution_count": 92,
   "id": "d272d262",
   "metadata": {},
   "outputs": [
    {
     "name": "stdout",
     "output_type": "stream",
     "text": [
      "the count is:  0\n",
      "Good Bye!\n",
      "the count is:  1\n",
      "Good Bye!\n",
      "the count is:  2\n",
      "Good Bye!\n",
      "the count is:  3\n",
      "Good Bye!\n",
      "the count is:  4\n",
      "Good Bye!\n",
      "the count is:  5\n",
      "Good Bye!\n",
      "the count is:  6\n",
      "Good Bye!\n",
      "the count is:  7\n",
      "Good Bye!\n",
      "the count is:  8\n",
      "Good Bye!\n"
     ]
    }
   ],
   "source": [
    "count = 0\n",
    "while(count < 9):\n",
    "    print(\"the count is: \",count)\n",
    "    count = count+1\n",
    "\n",
    "    print(\"Good Bye!\")"
   ]
  },
  {
   "cell_type": "code",
   "execution_count": 14,
   "id": "93f7efd0",
   "metadata": {},
   "outputs": [
    {
     "name": "stdout",
     "output_type": "stream",
     "text": [
      "Raj\n",
      "Raj\n",
      "Raj\n",
      "Raj\n",
      "Raj\n",
      "Raj\n",
      "Raj\n",
      "Raj\n",
      "Raj\n"
     ]
    }
   ],
   "source": [
    "count = 0\n",
    "while(count < 9):\n",
    "    count = count+1\n",
    "     print(\"Raj\")"
   ]
  },
  {
   "cell_type": "markdown",
   "id": "76351217",
   "metadata": {},
   "source": [
    "# While loop with Else(while else)"
   ]
  },
  {
   "cell_type": "code",
   "execution_count": 34,
   "id": "ae4786c4",
   "metadata": {},
   "outputs": [
    {
     "name": "stdout",
     "output_type": "stream",
     "text": [
      "0 is less than 5\n",
      "1 is less than 5\n",
      "2 is less than 5\n",
      "3 is less than 5\n",
      "4 is less than 5\n",
      "5 is not less than 5\n"
     ]
    }
   ],
   "source": [
    "c=0\n",
    "while c<5:\n",
    "    print(c,\"is less than 5\")\n",
    "\n",
    "    c=c+1 \n",
    "else: \n",
    "    print(c,\"is not less than 5\")"
   ]
  },
  {
   "cell_type": "markdown",
   "id": "2cff9bec",
   "metadata": {},
   "source": [
    "# For Loop"
   ]
  },
  {
   "cell_type": "code",
   "execution_count": 38,
   "id": "f11dddec",
   "metadata": {},
   "outputs": [
    {
     "name": "stdout",
     "output_type": "stream",
     "text": [
      "current letter: p\n",
      "current letter: y\n",
      "current letter: t\n",
      "current letter: h\n",
      "current letter: o\n",
      "current letter: n\n"
     ]
    }
   ],
   "source": [
    "for letter in \"python\":\n",
    "    print(\"current letter:\",letter)"
   ]
  },
  {
   "cell_type": "code",
   "execution_count": 42,
   "id": "e158b400",
   "metadata": {},
   "outputs": [
    {
     "name": "stdout",
     "output_type": "stream",
     "text": [
      "current letter: raj\n",
      "Good Bye!\n",
      "current letter: parth\n",
      "Good Bye!\n",
      "current letter: jay\n",
      "Good Bye!\n"
     ]
    }
   ],
   "source": [
    "a=[\"raj\",\"parth\",\"jay\"]\n",
    "for letter in a:\n",
    "    print(\"current letter:\",letter)\n",
    "    print(\"Good Bye!\")\n",
    "    \n"
   ]
  },
  {
   "cell_type": "code",
   "execution_count": 43,
   "id": "33d10c79",
   "metadata": {},
   "outputs": [
    {
     "name": "stdout",
     "output_type": "stream",
     "text": [
      "0\n",
      "1\n",
      "2\n",
      "3\n",
      "4\n",
      "5\n",
      "6\n",
      "7\n",
      "8\n",
      "9\n"
     ]
    }
   ],
   "source": [
    "for i in range(10):\n",
    "    print(i)"
   ]
  },
  {
   "cell_type": "code",
   "execution_count": 2,
   "id": "e8bdc777",
   "metadata": {},
   "outputs": [
    {
     "name": "stdout",
     "output_type": "stream",
     "text": [
      "10 equals 2 * 5\n",
      "11 is a prime number\n",
      "12 equals 2 * 6\n",
      "13 is a prime number\n",
      "14 equals 2 * 7\n",
      "15 is a prime number\n",
      "16 equals 2 * 8\n",
      "17 is a prime number\n",
      "18 equals 2 * 9\n",
      "19 is a prime number\n"
     ]
    }
   ],
   "source": [
    "for num in range(10,20):             ##Nesterd Loop\n",
    "    for i in range(2,num):\n",
    "        if num%i ==0:\n",
    "            j=num/i\n",
    "            print(\"%d equals %d * %d\" % (num,i,j))\n",
    "            break\n",
    "        else:\n",
    "            print(num,\"is a prime number\")\n",
    "            break"
   ]
  },
  {
   "cell_type": "code",
   "execution_count": 62,
   "id": "9e9ea660",
   "metadata": {},
   "outputs": [],
   "source": [
    "from math import pi"
   ]
  },
  {
   "cell_type": "code",
   "execution_count": 63,
   "id": "ca023821",
   "metadata": {},
   "outputs": [
    {
     "data": {
      "text/plain": [
       "3.141592653589793"
      ]
     },
     "execution_count": 63,
     "metadata": {},
     "output_type": "execute_result"
    }
   ],
   "source": [
    "pi"
   ]
  },
  {
   "cell_type": "code",
   "execution_count": 66,
   "id": "a3616abb",
   "metadata": {},
   "outputs": [
    {
     "data": {
      "text/plain": [
       "12.566370614359172"
      ]
     },
     "execution_count": 66,
     "metadata": {},
     "output_type": "execute_result"
    }
   ],
   "source": [
    "#Find Area Of Circle\n",
    "r=2\n",
    "area=pi*r*r\n",
    "area"
   ]
  },
  {
   "cell_type": "markdown",
   "id": "fb14bb81",
   "metadata": {},
   "source": [
    "# Conditional Statement"
   ]
  },
  {
   "cell_type": "code",
   "execution_count": 69,
   "id": "8c1419ca",
   "metadata": {},
   "outputs": [],
   "source": [
    "#if statement"
   ]
  },
  {
   "cell_type": "code",
   "execution_count": 70,
   "id": "26b9b659",
   "metadata": {},
   "outputs": [
    {
     "name": "stdout",
     "output_type": "stream",
     "text": [
      "5 is positive number\n",
      "statement is true\n"
     ]
    }
   ],
   "source": [
    "num=5\n",
    "\n",
    "if num>0:\n",
    "    print(num,\"is positive number\")\n",
    "    print(\"statement is true\")"
   ]
  },
  {
   "cell_type": "code",
   "execution_count": 71,
   "id": "c1db71d5",
   "metadata": {},
   "outputs": [
    {
     "name": "stdout",
     "output_type": "stream",
     "text": [
      "-5 is negetive number\n"
     ]
    }
   ],
   "source": [
    "num=-5\n",
    "\n",
    "if num>0:\n",
    "    print(num,\"is positive number\")\n",
    "else:\n",
    "    print(num,\"is negetive number\")\n"
   ]
  },
  {
   "cell_type": "code",
   "execution_count": 75,
   "id": "7f7a694d",
   "metadata": {},
   "outputs": [
    {
     "name": "stdout",
     "output_type": "stream",
     "text": [
      "0 number is zero\n"
     ]
    }
   ],
   "source": [
    "num=0\n",
    "\n",
    "if num>=0:\n",
    "    if num==0:\n",
    "        print(num,\"number is zero\")\n",
    "    else:\n",
    "        print(num,\"is positive number\")\n",
    "else:\n",
    "    print(num,\"is negetive number\")\n"
   ]
  },
  {
   "cell_type": "markdown",
   "id": "98bd77f6",
   "metadata": {},
   "source": [
    "# Calculator"
   ]
  },
  {
   "cell_type": "code",
   "execution_count": 91,
   "id": "964d5af7",
   "metadata": {},
   "outputs": [
    {
     "name": "stdout",
     "output_type": "stream",
     "text": [
      "Select Operation\n",
      "1. Addition\n",
      "2. Subtraction\n",
      "3. Multiply\n",
      "4. Division\n",
      "Enter Choice(1/2/3/4): 2\n",
      "Enter The First Number: 10\n",
      "Enter The Second Number: 10\n",
      "10 - 10 = 0\n"
     ]
    }
   ],
   "source": [
    "##creat function for each operation\n",
    "\n",
    "##for creating and defining a function use\"DEF(def)\"\n",
    "##this function add two number\n",
    "\n",
    "def add(x,y):\n",
    "    return x+y\n",
    "\n",
    "##this function subtraction of two number\n",
    "\n",
    "def sub(x,y):\n",
    "    return x-y\n",
    "\n",
    "##this function multiply two number\n",
    "\n",
    "def mul(x,y):\n",
    "    return x*y\n",
    "\n",
    "##this function division two number\n",
    "\n",
    "def div(x,y):\n",
    "    return x/y\n",
    "\n",
    "print(\"Select Operation\")\n",
    "print(\"1. Addition\")\n",
    "print(\"2. Subtraction\")\n",
    "print(\"3. Multiply\")\n",
    "print(\"4. Division\")\n",
    "\n",
    "choice = input(\"Enter Choice(1/2/3/4): \")\n",
    "\n",
    "num1 = int(input(\"Enter The First Number: \"))\n",
    "num2= int(input(\"Enter The Second Number: \"))\n",
    "\n",
    "if choice==\"1\":\n",
    "    print(num1,\"+\",num2,\"=\", add(num1,num2))\n",
    "    \n",
    "elif choice==\"2\":\n",
    "    print(num1,\"-\",num2,\"=\", sub(num1,num2))\n",
    "    \n",
    "elif choice==\"3\":\n",
    "    print(num1,\"3\",num2,\"=\", mul(num1,num2))\n",
    "    \n",
    "elif choice==\"4\":\n",
    "    print(num1,\"/\",num2,\"=\", div(num1,num2))\n",
    "    \n",
    "else:\n",
    "    print(\"Invalid Input\")\n",
    "\n"
   ]
  },
  {
   "cell_type": "code",
   "execution_count": null,
   "id": "321de422",
   "metadata": {},
   "outputs": [],
   "source": []
  }
 ],
 "metadata": {
  "kernelspec": {
   "display_name": "Python 3 (ipykernel)",
   "language": "python",
   "name": "python3"
  },
  "language_info": {
   "codemirror_mode": {
    "name": "ipython",
    "version": 3
   },
   "file_extension": ".py",
   "mimetype": "text/x-python",
   "name": "python",
   "nbconvert_exporter": "python",
   "pygments_lexer": "ipython3",
   "version": "3.9.12"
  }
 },
 "nbformat": 4,
 "nbformat_minor": 5
}
